{
 "cells": [
  {
   "cell_type": "raw",
   "id": "a6fe07e1",
   "metadata": {
    "vscode": {
     "languageId": "raw"
    }
   },
   "source": [
    "jupyter nbextension enable --py widgetsnbextension\n",
    "# https://stackoverflow.com/a/57343401"
   ]
  },
  {
   "cell_type": "code",
   "execution_count": 29,
   "id": "434417b2",
   "metadata": {},
   "outputs": [],
   "source": [
    "%load_ext sql"
   ]
  },
  {
   "cell_type": "code",
   "execution_count": 30,
   "id": "377aa08e",
   "metadata": {},
   "outputs": [],
   "source": [
    "%config SqlMagic.displaylimit = 15\n",
    "# %config SqlMagic.displaylimit = None"
   ]
  },
  {
   "cell_type": "code",
   "execution_count": null,
   "id": "55a35865",
   "metadata": {},
   "outputs": [],
   "source": [
    "import datetime as dt\n",
    "import sqlite3\n",
    "import pandas as pd\n",
    "from sqlalchemy import create_engine, text"
   ]
  },
  {
   "cell_type": "code",
   "execution_count": 42,
   "id": "d68c95d6",
   "metadata": {},
   "outputs": [],
   "source": [
    "sys_log_db = \"system_data_log.db\"\n",
    "\n",
    "sql_engine = create_engine(\"sqlite:///%s\" % sys_log_db, echo=False)"
   ]
  },
  {
   "cell_type": "code",
   "execution_count": 189,
   "id": "33adf637",
   "metadata": {},
   "outputs": [],
   "source": [
    "def create_voltage_table(force=False):\n",
    "    with sql_engine.connect() as sql_conn:\n",
    "        if force:\n",
    "            sql_text = text(\"\"\"DROP TABLE IF EXISTS voltages;\n",
    "                            \"\"\")\n",
    "            sql_conn.execute(sql_text)\n",
    "        # define schema\n",
    "        sql_text = text(\"\"\"\n",
    "            CREATE TABLE IF NOT EXISTS voltages (\n",
    "                Timestamp TEXT,\n",
    "                Vmain FLOAT,\n",
    "                Vmain_raw FLOAT,\n",
    "                Vaux FLOAT,\n",
    "                Vaux_raw FLOAT,\n",
    "                PRIMARY KEY (Timestamp)\n",
    "                )\n",
    "        \"\"\")\n",
    "        sql_conn.execute(sql_text)\n",
    "        sql_conn.commit()"
   ]
  },
  {
   "cell_type": "code",
   "execution_count": null,
   "id": "45733c1d",
   "metadata": {},
   "outputs": [],
   "source": [
    "create_voltage_table()"
   ]
  },
  {
   "cell_type": "code",
   "execution_count": 193,
   "id": "279197f3",
   "metadata": {},
   "outputs": [],
   "source": [
    "def add_voltage_log(Vmain, Vmain_raw, Vaux, Vaux_raw):\n",
    "    with sql_engine.connect() as sql_conn:\n",
    "        sql_text = text(\"\"\"INSERT INTO voltages\n",
    "                           VALUES (DateTime(\"now\", \"localtime\"),\n",
    "                                   :v_main,\n",
    "                                   :v_main_raw,\n",
    "                                   :v_aux,\n",
    "                                   :v_aux_raw\n",
    "                           );\n",
    "                        \"\"\")\n",
    "        sql_conn.execute(sql_text, {\"v_main\": Vmain,\n",
    "                                    \"v_main_raw\": Vmain_raw,\n",
    "                                    \"v_aux\": Vaux,\n",
    "                                    \"v_aux_raw\": Vaux_raw})\n",
    "        sql_conn.commit()"
   ]
  },
  {
   "cell_type": "code",
   "execution_count": 194,
   "id": "7d401dac",
   "metadata": {},
   "outputs": [],
   "source": [
    "add_voltage_log(12.4, 12.8, 12.5, 12)"
   ]
  },
  {
   "cell_type": "code",
   "execution_count": 195,
   "id": "b86780c3",
   "metadata": {},
   "outputs": [],
   "source": [
    "add_voltage_log(12.5, 12.75, 12.4, 11.9)"
   ]
  },
  {
   "cell_type": "markdown",
   "id": "9f3b7766",
   "metadata": {},
   "source": [
    "---"
   ]
  },
  {
   "cell_type": "code",
   "execution_count": 282,
   "id": "b286e73b",
   "metadata": {},
   "outputs": [],
   "source": [
    "def get_voltages(voltage_type=\"Vmain\", trailing_seconds=None):\n",
    "    with sql_engine.connect() as sql_conn:\n",
    "        sql_text = text(f\"\"\"SELECT Timestamp, {voltage_type}\n",
    "                            FROM voltages\n",
    "                         \"\"\")\n",
    "        result_df = pd.read_sql(sql_text, con=sql_conn, index_col = \"Timestamp\", parse_dates=[\"Timestamp\"])\n",
    "    if trailing_seconds is not None:\n",
    "        return result_df[result_df.index > dt.datetime.now() - dt.timedelta(seconds=trailing_seconds)]\n",
    "    else:\n",
    "        return result_df"
   ]
  },
  {
   "cell_type": "code",
   "execution_count": 343,
   "id": "5c141105",
   "metadata": {},
   "outputs": [],
   "source": [
    "def get_voltages(voltage_type=None, trailing_seconds=None):\n",
    "    if voltage_type is None:\n",
    "        cols = \"*\"\n",
    "    else:\n",
    "        cols = \"Timestamp, %s\" % voltage_type\n",
    "\n",
    "    if trailing_seconds is not None:\n",
    "        timestamp_now = dt.datetime.now()\n",
    "        timestamp_trail = timestamp_now - dt.timedelta(seconds=trailing_seconds)\n",
    "        timestamp_trail_str = timestamp_trail.strftime(\"%Y-%m-%d %H:%M:%S\")\n",
    "        time_filter = \"WHERE Timestamp > %s\" % timestamp_trail_str\n",
    "    else:\n",
    "        time_filter = \"\"\n",
    "\n",
    "    with sql_engine.connect() as sql_conn:\n",
    "        # sql_text = text(f\"\"\"SELECT Timestamp, {voltage_type}\n",
    "        sql_text = text(f\"\"\"SELECT {cols}\n",
    "                            FROM voltages\n",
    "                            {time_filter}\n",
    "                         \"\"\")\n",
    "        result_df = pd.read_sql(sql_text, con=sql_conn, index_col = \"Timestamp\", parse_dates=[\"Timestamp\"])\n",
    "    return result_df"
   ]
  },
  {
   "cell_type": "code",
   "execution_count": 344,
   "id": "e9567a43",
   "metadata": {},
   "outputs": [
    {
     "data": {
      "text/html": [
       "<div>\n",
       "<style scoped>\n",
       "    .dataframe tbody tr th:only-of-type {\n",
       "        vertical-align: middle;\n",
       "    }\n",
       "\n",
       "    .dataframe tbody tr th {\n",
       "        vertical-align: top;\n",
       "    }\n",
       "\n",
       "    .dataframe thead th {\n",
       "        text-align: right;\n",
       "    }\n",
       "</style>\n",
       "<table border=\"1\" class=\"dataframe\">\n",
       "  <thead>\n",
       "    <tr style=\"text-align: right;\">\n",
       "      <th></th>\n",
       "      <th>Vmain</th>\n",
       "    </tr>\n",
       "    <tr>\n",
       "      <th>Timestamp</th>\n",
       "      <th></th>\n",
       "    </tr>\n",
       "  </thead>\n",
       "  <tbody>\n",
       "    <tr>\n",
       "      <th>2025-10-12 15:08:14</th>\n",
       "      <td>12.4</td>\n",
       "    </tr>\n",
       "    <tr>\n",
       "      <th>2025-10-12 15:08:21</th>\n",
       "      <td>12.4</td>\n",
       "    </tr>\n",
       "    <tr>\n",
       "      <th>2025-10-12 15:08:22</th>\n",
       "      <td>12.5</td>\n",
       "    </tr>\n",
       "  </tbody>\n",
       "</table>\n",
       "</div>"
      ],
      "text/plain": [
       "                     Vmain\n",
       "Timestamp                 \n",
       "2025-10-12 15:08:14   12.4\n",
       "2025-10-12 15:08:21   12.4\n",
       "2025-10-12 15:08:22   12.5"
      ]
     },
     "execution_count": 344,
     "metadata": {},
     "output_type": "execute_result"
    }
   ],
   "source": [
    "df = get_voltages(\"Vmain\"); df"
   ]
  },
  {
   "cell_type": "markdown",
   "id": "2859178d",
   "metadata": {},
   "source": [
    "---"
   ]
  },
  {
   "cell_type": "code",
   "execution_count": 529,
   "id": "10e2a26c",
   "metadata": {},
   "outputs": [],
   "source": [
    "from importlib import reload\n",
    "import class_def\n",
    "reload(class_def)\n",
    "dl = class_def.DataLogger()"
   ]
  },
  {
   "cell_type": "code",
   "execution_count": null,
   "id": "485826fe",
   "metadata": {},
   "outputs": [
    {
     "data": {
      "text/html": [
       "<div>\n",
       "<style scoped>\n",
       "    .dataframe tbody tr th:only-of-type {\n",
       "        vertical-align: middle;\n",
       "    }\n",
       "\n",
       "    .dataframe tbody tr th {\n",
       "        vertical-align: top;\n",
       "    }\n",
       "\n",
       "    .dataframe thead th {\n",
       "        text-align: right;\n",
       "    }\n",
       "</style>\n",
       "<table border=\"1\" class=\"dataframe\">\n",
       "  <thead>\n",
       "    <tr style=\"text-align: right;\">\n",
       "      <th></th>\n",
       "      <th>Vmain_raw</th>\n",
       "    </tr>\n",
       "    <tr>\n",
       "      <th>Timestamp</th>\n",
       "      <th></th>\n",
       "    </tr>\n",
       "  </thead>\n",
       "  <tbody>\n",
       "  </tbody>\n",
       "</table>\n",
       "</div>"
      ],
      "text/plain": [
       "Empty DataFrame\n",
       "Columns: [Vmain_raw]\n",
       "Index: []"
      ]
     },
     "execution_count": 532,
     "metadata": {},
     "output_type": "execute_result"
    }
   ],
   "source": [
    "dl.get_voltages(dt.datetime.now(), column_list=[\"Vmain_raw\"])"
   ]
  },
  {
   "cell_type": "code",
   "execution_count": 510,
   "id": "d51578b0",
   "metadata": {},
   "outputs": [
    {
     "data": {
      "text/html": [
       "<div>\n",
       "<style scoped>\n",
       "    .dataframe tbody tr th:only-of-type {\n",
       "        vertical-align: middle;\n",
       "    }\n",
       "\n",
       "    .dataframe tbody tr th {\n",
       "        vertical-align: top;\n",
       "    }\n",
       "\n",
       "    .dataframe thead th {\n",
       "        text-align: right;\n",
       "    }\n",
       "</style>\n",
       "<table border=\"1\" class=\"dataframe\">\n",
       "  <thead>\n",
       "    <tr style=\"text-align: right;\">\n",
       "      <th></th>\n",
       "      <th>charge_enable</th>\n",
       "      <th>charge_dir</th>\n",
       "      <th>charge_current</th>\n",
       "      <th>shunt_V_in</th>\n",
       "      <th>shunt_V_out</th>\n",
       "    </tr>\n",
       "    <tr>\n",
       "      <th>Timestamp</th>\n",
       "      <th></th>\n",
       "      <th></th>\n",
       "      <th></th>\n",
       "      <th></th>\n",
       "      <th></th>\n",
       "    </tr>\n",
       "  </thead>\n",
       "  <tbody>\n",
       "    <tr>\n",
       "      <th>2025-10-13 21:16:05</th>\n",
       "      <td>1</td>\n",
       "      <td>1</td>\n",
       "      <td>4.3</td>\n",
       "      <td>0.1</td>\n",
       "      <td>0.03</td>\n",
       "    </tr>\n",
       "    <tr>\n",
       "      <th>2025-10-13 21:16:45</th>\n",
       "      <td>1</td>\n",
       "      <td>1</td>\n",
       "      <td>4.3</td>\n",
       "      <td>0.1</td>\n",
       "      <td>0.03</td>\n",
       "    </tr>\n",
       "    <tr>\n",
       "      <th>2025-10-13 21:17:03</th>\n",
       "      <td>1</td>\n",
       "      <td>1</td>\n",
       "      <td>4.3</td>\n",
       "      <td>0.1</td>\n",
       "      <td>0.03</td>\n",
       "    </tr>\n",
       "    <tr>\n",
       "      <th>2025-10-13 21:17:50</th>\n",
       "      <td>1</td>\n",
       "      <td>1</td>\n",
       "      <td>4.3</td>\n",
       "      <td>0.1</td>\n",
       "      <td>0.03</td>\n",
       "    </tr>\n",
       "    <tr>\n",
       "      <th>2025-10-13 21:27:45</th>\n",
       "      <td>1</td>\n",
       "      <td>1</td>\n",
       "      <td>4.3</td>\n",
       "      <td>0.1</td>\n",
       "      <td>0.03</td>\n",
       "    </tr>\n",
       "    <tr>\n",
       "      <th>2025-10-13 21:28:15</th>\n",
       "      <td>1</td>\n",
       "      <td>1</td>\n",
       "      <td>4.3</td>\n",
       "      <td>0.1</td>\n",
       "      <td>0.03</td>\n",
       "    </tr>\n",
       "    <tr>\n",
       "      <th>2025-10-13 21:30:07</th>\n",
       "      <td>1</td>\n",
       "      <td>1</td>\n",
       "      <td>4.3</td>\n",
       "      <td>0.1</td>\n",
       "      <td>0.03</td>\n",
       "    </tr>\n",
       "  </tbody>\n",
       "</table>\n",
       "</div>"
      ],
      "text/plain": [
       "                     charge_enable  charge_dir  charge_current  shunt_V_in  \\\n",
       "Timestamp                                                                    \n",
       "2025-10-13 21:16:05              1           1             4.3         0.1   \n",
       "2025-10-13 21:16:45              1           1             4.3         0.1   \n",
       "2025-10-13 21:17:03              1           1             4.3         0.1   \n",
       "2025-10-13 21:17:50              1           1             4.3         0.1   \n",
       "2025-10-13 21:27:45              1           1             4.3         0.1   \n",
       "2025-10-13 21:28:15              1           1             4.3         0.1   \n",
       "2025-10-13 21:30:07              1           1             4.3         0.1   \n",
       "\n",
       "                     shunt_V_out  \n",
       "Timestamp                         \n",
       "2025-10-13 21:16:05         0.03  \n",
       "2025-10-13 21:16:45         0.03  \n",
       "2025-10-13 21:17:03         0.03  \n",
       "2025-10-13 21:17:50         0.03  \n",
       "2025-10-13 21:27:45         0.03  \n",
       "2025-10-13 21:28:15         0.03  \n",
       "2025-10-13 21:30:07         0.03  "
      ]
     },
     "execution_count": 510,
     "metadata": {},
     "output_type": "execute_result"
    }
   ],
   "source": [
    "dl.get_charging(dt.datetime.now())"
   ]
  },
  {
   "cell_type": "code",
   "execution_count": 442,
   "id": "3b0ae42f",
   "metadata": {},
   "outputs": [],
   "source": [
    "dl.log_charging(dt.datetime.now(), [True, True, 4.3, 0.1, 0.03])"
   ]
  },
  {
   "cell_type": "code",
   "execution_count": 464,
   "id": "b92526e0",
   "metadata": {},
   "outputs": [],
   "source": [
    "dl.log_signals(dt.datetime.now(), [True, False, False, False, \"network 5\", 13.2, 13, 12.5, True, False, False, True, True, False])"
   ]
  },
  {
   "cell_type": "code",
   "execution_count": 433,
   "id": "0b74bd76",
   "metadata": {},
   "outputs": [
    {
     "data": {
      "text/plain": [
       "'Null'"
      ]
     },
     "execution_count": 433,
     "metadata": {},
     "output_type": "execute_result"
    }
   ],
   "source": [
    "str(None).replace(\"None\", \"Null\")"
   ]
  },
  {
   "cell_type": "markdown",
   "id": "efea612b",
   "metadata": {},
   "source": [
    "---"
   ]
  },
  {
   "cell_type": "code",
   "execution_count": 479,
   "id": "491ebb5b",
   "metadata": {},
   "outputs": [
    {
     "data": {
      "text/html": [
       "<div>\n",
       "<style scoped>\n",
       "    .dataframe tbody tr th:only-of-type {\n",
       "        vertical-align: middle;\n",
       "    }\n",
       "\n",
       "    .dataframe tbody tr th {\n",
       "        vertical-align: top;\n",
       "    }\n",
       "\n",
       "    .dataframe thead th {\n",
       "        text-align: right;\n",
       "    }\n",
       "</style>\n",
       "<table border=\"1\" class=\"dataframe\">\n",
       "  <thead>\n",
       "    <tr style=\"text-align: right;\">\n",
       "      <th></th>\n",
       "      <th>enable_sw</th>\n",
       "      <th>key_ACC</th>\n",
       "      <th>ecu_W</th>\n",
       "      <th>engine_on</th>\n",
       "      <th>network_conn</th>\n",
       "      <th>HAT_analog_0</th>\n",
       "      <th>HAT_analog_1</th>\n",
       "      <th>HAT_analog_2</th>\n",
       "      <th>HAT_input_0</th>\n",
       "      <th>HAT_input_1</th>\n",
       "      <th>HAT_input_2</th>\n",
       "      <th>HAT_relay_0</th>\n",
       "      <th>HAT_relay_1</th>\n",
       "      <th>HAT_relay_2</th>\n",
       "    </tr>\n",
       "    <tr>\n",
       "      <th>Timestamp</th>\n",
       "      <th></th>\n",
       "      <th></th>\n",
       "      <th></th>\n",
       "      <th></th>\n",
       "      <th></th>\n",
       "      <th></th>\n",
       "      <th></th>\n",
       "      <th></th>\n",
       "      <th></th>\n",
       "      <th></th>\n",
       "      <th></th>\n",
       "      <th></th>\n",
       "      <th></th>\n",
       "      <th></th>\n",
       "    </tr>\n",
       "  </thead>\n",
       "  <tbody>\n",
       "    <tr>\n",
       "      <th>2025-10-13 21:23:54</th>\n",
       "      <td>1</td>\n",
       "      <td>0</td>\n",
       "      <td>0</td>\n",
       "      <td>0</td>\n",
       "      <td>None</td>\n",
       "      <td>13.2</td>\n",
       "      <td>13.0</td>\n",
       "      <td>12.5</td>\n",
       "      <td>1</td>\n",
       "      <td>0</td>\n",
       "      <td>0</td>\n",
       "      <td>1</td>\n",
       "      <td>1</td>\n",
       "      <td>0</td>\n",
       "    </tr>\n",
       "    <tr>\n",
       "      <th>2025-10-13 21:28:13</th>\n",
       "      <td>1</td>\n",
       "      <td>0</td>\n",
       "      <td>0</td>\n",
       "      <td>0</td>\n",
       "      <td>None</td>\n",
       "      <td>13.2</td>\n",
       "      <td>13.0</td>\n",
       "      <td>12.5</td>\n",
       "      <td>1</td>\n",
       "      <td>0</td>\n",
       "      <td>0</td>\n",
       "      <td>1</td>\n",
       "      <td>1</td>\n",
       "      <td>0</td>\n",
       "    </tr>\n",
       "    <tr>\n",
       "      <th>2025-10-13 21:30:07</th>\n",
       "      <td>1</td>\n",
       "      <td>0</td>\n",
       "      <td>0</td>\n",
       "      <td>0</td>\n",
       "      <td>None</td>\n",
       "      <td>13.2</td>\n",
       "      <td>13.0</td>\n",
       "      <td>12.5</td>\n",
       "      <td>1</td>\n",
       "      <td>0</td>\n",
       "      <td>0</td>\n",
       "      <td>1</td>\n",
       "      <td>1</td>\n",
       "      <td>0</td>\n",
       "    </tr>\n",
       "    <tr>\n",
       "      <th>2025-10-13 21:39:18</th>\n",
       "      <td>1</td>\n",
       "      <td>0</td>\n",
       "      <td>0</td>\n",
       "      <td>0</td>\n",
       "      <td>NETWORK 5</td>\n",
       "      <td>13.2</td>\n",
       "      <td>13.0</td>\n",
       "      <td>12.5</td>\n",
       "      <td>1</td>\n",
       "      <td>0</td>\n",
       "      <td>0</td>\n",
       "      <td>1</td>\n",
       "      <td>1</td>\n",
       "      <td>0</td>\n",
       "    </tr>\n",
       "    <tr>\n",
       "      <th>2025-10-17 14:52:50</th>\n",
       "      <td>1</td>\n",
       "      <td>0</td>\n",
       "      <td>0</td>\n",
       "      <td>0</td>\n",
       "      <td>network 5</td>\n",
       "      <td>13.2</td>\n",
       "      <td>13.0</td>\n",
       "      <td>12.5</td>\n",
       "      <td>1</td>\n",
       "      <td>0</td>\n",
       "      <td>0</td>\n",
       "      <td>1</td>\n",
       "      <td>1</td>\n",
       "      <td>0</td>\n",
       "    </tr>\n",
       "    <tr>\n",
       "      <th>2025-10-17 14:55:58</th>\n",
       "      <td>1</td>\n",
       "      <td>0</td>\n",
       "      <td>0</td>\n",
       "      <td>0</td>\n",
       "      <td>phone hotspot</td>\n",
       "      <td>13.2</td>\n",
       "      <td>13.0</td>\n",
       "      <td>12.5</td>\n",
       "      <td>1</td>\n",
       "      <td>0</td>\n",
       "      <td>0</td>\n",
       "      <td>1</td>\n",
       "      <td>1</td>\n",
       "      <td>0</td>\n",
       "    </tr>\n",
       "    <tr>\n",
       "      <th>2025-10-17 14:56:20</th>\n",
       "      <td>1</td>\n",
       "      <td>0</td>\n",
       "      <td>0</td>\n",
       "      <td>0</td>\n",
       "      <td>None</td>\n",
       "      <td>13.2</td>\n",
       "      <td>13.0</td>\n",
       "      <td>12.5</td>\n",
       "      <td>1</td>\n",
       "      <td>0</td>\n",
       "      <td>0</td>\n",
       "      <td>1</td>\n",
       "      <td>1</td>\n",
       "      <td>0</td>\n",
       "    </tr>\n",
       "  </tbody>\n",
       "</table>\n",
       "</div>"
      ],
      "text/plain": [
       "                     enable_sw  key_ACC  ecu_W  engine_on   network_conn  \\\n",
       "Timestamp                                                                  \n",
       "2025-10-13 21:23:54          1        0      0          0           None   \n",
       "2025-10-13 21:28:13          1        0      0          0           None   \n",
       "2025-10-13 21:30:07          1        0      0          0           None   \n",
       "2025-10-13 21:39:18          1        0      0          0      NETWORK 5   \n",
       "2025-10-17 14:52:50          1        0      0          0      network 5   \n",
       "2025-10-17 14:55:58          1        0      0          0  phone hotspot   \n",
       "2025-10-17 14:56:20          1        0      0          0           None   \n",
       "\n",
       "                     HAT_analog_0  HAT_analog_1  HAT_analog_2  HAT_input_0  \\\n",
       "Timestamp                                                                    \n",
       "2025-10-13 21:23:54          13.2          13.0          12.5            1   \n",
       "2025-10-13 21:28:13          13.2          13.0          12.5            1   \n",
       "2025-10-13 21:30:07          13.2          13.0          12.5            1   \n",
       "2025-10-13 21:39:18          13.2          13.0          12.5            1   \n",
       "2025-10-17 14:52:50          13.2          13.0          12.5            1   \n",
       "2025-10-17 14:55:58          13.2          13.0          12.5            1   \n",
       "2025-10-17 14:56:20          13.2          13.0          12.5            1   \n",
       "\n",
       "                     HAT_input_1  HAT_input_2  HAT_relay_0  HAT_relay_1  \\\n",
       "Timestamp                                                                 \n",
       "2025-10-13 21:23:54            0            0            1            1   \n",
       "2025-10-13 21:28:13            0            0            1            1   \n",
       "2025-10-13 21:30:07            0            0            1            1   \n",
       "2025-10-13 21:39:18            0            0            1            1   \n",
       "2025-10-17 14:52:50            0            0            1            1   \n",
       "2025-10-17 14:55:58            0            0            1            1   \n",
       "2025-10-17 14:56:20            0            0            1            1   \n",
       "\n",
       "                     HAT_relay_2  \n",
       "Timestamp                         \n",
       "2025-10-13 21:23:54            0  \n",
       "2025-10-13 21:28:13            0  \n",
       "2025-10-13 21:30:07            0  \n",
       "2025-10-13 21:39:18            0  \n",
       "2025-10-17 14:52:50            0  \n",
       "2025-10-17 14:55:58            0  \n",
       "2025-10-17 14:56:20            0  "
      ]
     },
     "execution_count": 479,
     "metadata": {},
     "output_type": "execute_result"
    }
   ],
   "source": [
    "dl.get_signals(dt.datetime.now())"
   ]
  },
  {
   "cell_type": "code",
   "execution_count": 371,
   "id": "708eb31c",
   "metadata": {},
   "outputs": [
    {
     "data": {
      "text/html": [
       "<div>\n",
       "<style scoped>\n",
       "    .dataframe tbody tr th:only-of-type {\n",
       "        vertical-align: middle;\n",
       "    }\n",
       "\n",
       "    .dataframe tbody tr th {\n",
       "        vertical-align: top;\n",
       "    }\n",
       "\n",
       "    .dataframe thead th {\n",
       "        text-align: right;\n",
       "    }\n",
       "</style>\n",
       "<table border=\"1\" class=\"dataframe\">\n",
       "  <thead>\n",
       "    <tr style=\"text-align: right;\">\n",
       "      <th></th>\n",
       "      <th>charge_enable</th>\n",
       "      <th>charge_dir</th>\n",
       "      <th>charge_current</th>\n",
       "      <th>shunt_V_in</th>\n",
       "      <th>shunt_V_out</th>\n",
       "    </tr>\n",
       "    <tr>\n",
       "      <th>Timestamp</th>\n",
       "      <th></th>\n",
       "      <th></th>\n",
       "      <th></th>\n",
       "      <th></th>\n",
       "      <th></th>\n",
       "    </tr>\n",
       "  </thead>\n",
       "  <tbody>\n",
       "    <tr>\n",
       "      <th>2025-10-13 21:16:05</th>\n",
       "      <td>1</td>\n",
       "      <td>1</td>\n",
       "      <td>4.3</td>\n",
       "      <td>0.1</td>\n",
       "      <td>0.03</td>\n",
       "    </tr>\n",
       "    <tr>\n",
       "      <th>2025-10-13 21:16:45</th>\n",
       "      <td>1</td>\n",
       "      <td>1</td>\n",
       "      <td>4.3</td>\n",
       "      <td>0.1</td>\n",
       "      <td>0.03</td>\n",
       "    </tr>\n",
       "    <tr>\n",
       "      <th>2025-10-13 21:17:03</th>\n",
       "      <td>1</td>\n",
       "      <td>1</td>\n",
       "      <td>4.3</td>\n",
       "      <td>0.1</td>\n",
       "      <td>0.03</td>\n",
       "    </tr>\n",
       "    <tr>\n",
       "      <th>2025-10-13 21:17:50</th>\n",
       "      <td>1</td>\n",
       "      <td>1</td>\n",
       "      <td>4.3</td>\n",
       "      <td>0.1</td>\n",
       "      <td>0.03</td>\n",
       "    </tr>\n",
       "  </tbody>\n",
       "</table>\n",
       "</div>"
      ],
      "text/plain": [
       "                     charge_enable  charge_dir  charge_current  shunt_V_in  \\\n",
       "Timestamp                                                                    \n",
       "2025-10-13 21:16:05              1           1             4.3         0.1   \n",
       "2025-10-13 21:16:45              1           1             4.3         0.1   \n",
       "2025-10-13 21:17:03              1           1             4.3         0.1   \n",
       "2025-10-13 21:17:50              1           1             4.3         0.1   \n",
       "\n",
       "                     shunt_V_out  \n",
       "Timestamp                         \n",
       "2025-10-13 21:16:05         0.03  \n",
       "2025-10-13 21:16:45         0.03  \n",
       "2025-10-13 21:17:03         0.03  \n",
       "2025-10-13 21:17:50         0.03  "
      ]
     },
     "execution_count": 426,
     "metadata": {},
     "output_type": "execute_result"
    }
   ],
   "source": [
    "dl.get_charging(dt.datetime.now())"
   ]
  },
  {
   "cell_type": "markdown",
   "id": "52563a11",
   "metadata": {},
   "source": [
    "---"
   ]
  },
  {
   "cell_type": "code",
   "execution_count": 470,
   "id": "ec0a704c",
   "metadata": {},
   "outputs": [
    {
     "data": {
      "text/plain": [
       "\"TRUE, FALSE, FALSE, FALSE, 'phone hotspot', 13.2, 13, 12.5, TRUE, FALSE, FALSE, TRUE, TRUE, FALSE\""
      ]
     },
     "execution_count": 470,
     "metadata": {},
     "output_type": "execute_result"
    }
   ],
   "source": [
    "\", \".join([str(x).upper() if not isinstance(x, str) else \"'%s'\" % x for x in values_list]).replace(\"NONE\", \"NULL\") "
   ]
  },
  {
   "cell_type": "code",
   "execution_count": 455,
   "id": "d50d5b99",
   "metadata": {},
   "outputs": [],
   "source": [
    "# values_list = [True, False, False, False, \"network 5\", 13.2, 13, 12.5, True, False, False, True, True, False]\n",
    "values_list = [True, False, False, False, None, 13.2, 13, 12.5, True, False, False, True, True, False]"
   ]
  },
  {
   "cell_type": "code",
   "execution_count": 474,
   "id": "c79c7242",
   "metadata": {},
   "outputs": [],
   "source": [
    "import subprocess\n",
    "from network_names import stored_ssid_mapping_dict     # local file\n",
    "# stored_ssid_mapping_dict.get(subprocess.run([\"/usr/sbin/iwgetid\", \"-r\"], capture_output=True, text=True).stdout.strip()),\n",
    "\n",
    "values_list = [True, False, False, False, \n",
    "               stored_ssid_mapping_dict.get(subprocess.run([\"/usr/sbin/iwgetid\", \"-r\"], capture_output=True, text=True).stdout.strip()),\n",
    "               13.2, 13, 12.5, True, False, False, True, True, False]\n",
    "\n",
    "dl.log_signals(dt.datetime.now(), values_list)"
   ]
  },
  {
   "cell_type": "markdown",
   "id": "5b3bd205",
   "metadata": {},
   "source": [
    "---"
   ]
  },
  {
   "cell_type": "code",
   "execution_count": null,
   "id": "d9ea0fa7",
   "metadata": {},
   "outputs": [],
   "source": [
    "# https://pandas.pydata.org/pandas-docs/stable/reference/api/pandas.DataFrame.to_sql.html\n",
    "pandas.DataFrame.to_sql(sys_log_db, )"
   ]
  },
  {
   "cell_type": "code",
   "execution_count": 481,
   "id": "6239e467",
   "metadata": {},
   "outputs": [
    {
     "name": "stdout",
     "output_type": "stream",
     "text": [
      "0\n",
      "1\n",
      "2\n"
     ]
    }
   ],
   "source": [
    "def fun1(l1, l2, l3):\n",
    "    print(l1)\n",
    "    print(l2)\n",
    "    print(l3)\n",
    "fun1(*[0, 1, 2])"
   ]
  },
  {
   "cell_type": "code",
   "execution_count": 486,
   "id": "3b36a1ab",
   "metadata": {},
   "outputs": [
    {
     "data": {
      "text/plain": [
       "[0, 1, 2]"
      ]
     },
     "execution_count": 486,
     "metadata": {},
     "output_type": "execute_result"
    }
   ],
   "source": [
    "[x for x in range(0, 2+1)]"
   ]
  },
  {
   "cell_type": "code",
   "execution_count": 487,
   "id": "0b00defe",
   "metadata": {},
   "outputs": [
    {
     "data": {
      "text/html": [
       "<div>\n",
       "<style scoped>\n",
       "    .dataframe tbody tr th:only-of-type {\n",
       "        vertical-align: middle;\n",
       "    }\n",
       "\n",
       "    .dataframe tbody tr th {\n",
       "        vertical-align: top;\n",
       "    }\n",
       "\n",
       "    .dataframe thead th {\n",
       "        text-align: right;\n",
       "    }\n",
       "</style>\n",
       "<table border=\"1\" class=\"dataframe\">\n",
       "  <thead>\n",
       "    <tr style=\"text-align: right;\">\n",
       "      <th></th>\n",
       "      <th>charge_enable</th>\n",
       "      <th>charge_dir</th>\n",
       "      <th>charge_current</th>\n",
       "      <th>shunt_V_in</th>\n",
       "      <th>shunt_V_out</th>\n",
       "    </tr>\n",
       "    <tr>\n",
       "      <th>Timestamp</th>\n",
       "      <th></th>\n",
       "      <th></th>\n",
       "      <th></th>\n",
       "      <th></th>\n",
       "      <th></th>\n",
       "    </tr>\n",
       "  </thead>\n",
       "  <tbody>\n",
       "    <tr>\n",
       "      <th>2025-10-13 21:16:05</th>\n",
       "      <td>1</td>\n",
       "      <td>1</td>\n",
       "      <td>4.3</td>\n",
       "      <td>0.1</td>\n",
       "      <td>0.03</td>\n",
       "    </tr>\n",
       "    <tr>\n",
       "      <th>2025-10-13 21:16:45</th>\n",
       "      <td>1</td>\n",
       "      <td>1</td>\n",
       "      <td>4.3</td>\n",
       "      <td>0.1</td>\n",
       "      <td>0.03</td>\n",
       "    </tr>\n",
       "    <tr>\n",
       "      <th>2025-10-13 21:17:03</th>\n",
       "      <td>1</td>\n",
       "      <td>1</td>\n",
       "      <td>4.3</td>\n",
       "      <td>0.1</td>\n",
       "      <td>0.03</td>\n",
       "    </tr>\n",
       "    <tr>\n",
       "      <th>2025-10-13 21:17:50</th>\n",
       "      <td>1</td>\n",
       "      <td>1</td>\n",
       "      <td>4.3</td>\n",
       "      <td>0.1</td>\n",
       "      <td>0.03</td>\n",
       "    </tr>\n",
       "    <tr>\n",
       "      <th>2025-10-13 21:27:45</th>\n",
       "      <td>1</td>\n",
       "      <td>1</td>\n",
       "      <td>4.3</td>\n",
       "      <td>0.1</td>\n",
       "      <td>0.03</td>\n",
       "    </tr>\n",
       "    <tr>\n",
       "      <th>2025-10-13 21:28:15</th>\n",
       "      <td>1</td>\n",
       "      <td>1</td>\n",
       "      <td>4.3</td>\n",
       "      <td>0.1</td>\n",
       "      <td>0.03</td>\n",
       "    </tr>\n",
       "    <tr>\n",
       "      <th>2025-10-13 21:30:07</th>\n",
       "      <td>1</td>\n",
       "      <td>1</td>\n",
       "      <td>4.3</td>\n",
       "      <td>0.1</td>\n",
       "      <td>0.03</td>\n",
       "    </tr>\n",
       "  </tbody>\n",
       "</table>\n",
       "</div>"
      ],
      "text/plain": [
       "                     charge_enable  charge_dir  charge_current  shunt_V_in  \\\n",
       "Timestamp                                                                    \n",
       "2025-10-13 21:16:05              1           1             4.3         0.1   \n",
       "2025-10-13 21:16:45              1           1             4.3         0.1   \n",
       "2025-10-13 21:17:03              1           1             4.3         0.1   \n",
       "2025-10-13 21:17:50              1           1             4.3         0.1   \n",
       "2025-10-13 21:27:45              1           1             4.3         0.1   \n",
       "2025-10-13 21:28:15              1           1             4.3         0.1   \n",
       "2025-10-13 21:30:07              1           1             4.3         0.1   \n",
       "\n",
       "                     shunt_V_out  \n",
       "Timestamp                         \n",
       "2025-10-13 21:16:05         0.03  \n",
       "2025-10-13 21:16:45         0.03  \n",
       "2025-10-13 21:17:03         0.03  \n",
       "2025-10-13 21:17:50         0.03  \n",
       "2025-10-13 21:27:45         0.03  \n",
       "2025-10-13 21:28:15         0.03  \n",
       "2025-10-13 21:30:07         0.03  "
      ]
     },
     "execution_count": 487,
     "metadata": {},
     "output_type": "execute_result"
    }
   ],
   "source": [
    "table_df = dl.get_charging(dt.datetime.now()); table_df"
   ]
  },
  {
   "cell_type": "code",
   "execution_count": 493,
   "id": "214f08d6",
   "metadata": {},
   "outputs": [],
   "source": [
    "time_now = dt.datetime.now()"
   ]
  },
  {
   "cell_type": "code",
   "execution_count": 497,
   "id": "03f116f5",
   "metadata": {},
   "outputs": [
    {
     "data": {
      "text/plain": [
       "True"
      ]
     },
     "execution_count": 497,
     "metadata": {},
     "output_type": "execute_result"
    }
   ],
   "source": [
    "(time_now - table_df.index[-1]) > dt.timedelta(seconds=5)"
   ]
  },
  {
   "cell_type": "code",
   "execution_count": 498,
   "id": "b1350985",
   "metadata": {},
   "outputs": [
    {
     "data": {
      "text/html": [
       "<div>\n",
       "<style scoped>\n",
       "    .dataframe tbody tr th:only-of-type {\n",
       "        vertical-align: middle;\n",
       "    }\n",
       "\n",
       "    .dataframe tbody tr th {\n",
       "        vertical-align: top;\n",
       "    }\n",
       "\n",
       "    .dataframe thead th {\n",
       "        text-align: right;\n",
       "    }\n",
       "</style>\n",
       "<table border=\"1\" class=\"dataframe\">\n",
       "  <thead>\n",
       "    <tr style=\"text-align: right;\">\n",
       "      <th></th>\n",
       "      <th>charge_enable</th>\n",
       "      <th>charge_dir</th>\n",
       "      <th>charge_current</th>\n",
       "      <th>shunt_V_in</th>\n",
       "      <th>shunt_V_out</th>\n",
       "    </tr>\n",
       "    <tr>\n",
       "      <th>Timestamp</th>\n",
       "      <th></th>\n",
       "      <th></th>\n",
       "      <th></th>\n",
       "      <th></th>\n",
       "      <th></th>\n",
       "    </tr>\n",
       "  </thead>\n",
       "  <tbody>\n",
       "  </tbody>\n",
       "</table>\n",
       "</div>"
      ],
      "text/plain": [
       "Empty DataFrame\n",
       "Columns: [charge_enable, charge_dir, charge_current, shunt_V_in, shunt_V_out]\n",
       "Index: []"
      ]
     },
     "execution_count": 498,
     "metadata": {},
     "output_type": "execute_result"
    }
   ],
   "source": [
    "table_df = dl.get_charging(dt.datetime.now(), 5); table_df"
   ]
  },
  {
   "cell_type": "code",
   "execution_count": 499,
   "id": "2beff008",
   "metadata": {},
   "outputs": [
    {
     "data": {
      "text/plain": [
       "0"
      ]
     },
     "execution_count": 499,
     "metadata": {},
     "output_type": "execute_result"
    }
   ],
   "source": [
    "len(table_df.index)"
   ]
  }
 ],
 "metadata": {
  "kernelspec": {
   "display_name": "base",
   "language": "python",
   "name": "python3"
  },
  "language_info": {
   "codemirror_mode": {
    "name": "ipython",
    "version": 3
   },
   "file_extension": ".py",
   "mimetype": "text/x-python",
   "name": "python",
   "nbconvert_exporter": "python",
   "pygments_lexer": "ipython3",
   "version": "3.12.2"
  }
 },
 "nbformat": 4,
 "nbformat_minor": 5
}
