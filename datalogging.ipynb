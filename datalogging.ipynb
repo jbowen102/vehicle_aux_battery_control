{
 "cells": [
  {
   "cell_type": "raw",
   "id": "a6fe07e1",
   "metadata": {
    "vscode": {
     "languageId": "raw"
    }
   },
   "source": [
    "jupyter nbextension enable --py widgetsnbextension\n",
    "# https://stackoverflow.com/a/57343401"
   ]
  },
  {
   "cell_type": "code",
   "execution_count": 29,
   "id": "434417b2",
   "metadata": {},
   "outputs": [],
   "source": [
    "%load_ext sql"
   ]
  },
  {
   "cell_type": "code",
   "execution_count": 30,
   "id": "377aa08e",
   "metadata": {},
   "outputs": [],
   "source": [
    "%config SqlMagic.displaylimit = 15\n",
    "# %config SqlMagic.displaylimit = None"
   ]
  },
  {
   "cell_type": "code",
   "execution_count": null,
   "id": "55a35865",
   "metadata": {},
   "outputs": [],
   "source": [
    "import datetime as dt\n",
    "import sqlite3\n",
    "import pandas as pd\n",
    "from sqlalchemy import create_engine, text"
   ]
  },
  {
   "cell_type": "code",
   "execution_count": 42,
   "id": "d68c95d6",
   "metadata": {},
   "outputs": [],
   "source": [
    "sys_log_db = \"system_data_log.db\"\n",
    "\n",
    "sql_engine = create_engine(\"sqlite:///%s\" % sys_log_db, echo=False)"
   ]
  },
  {
   "cell_type": "code",
   "execution_count": 189,
   "id": "33adf637",
   "metadata": {},
   "outputs": [],
   "source": [
    "def create_voltage_table(force=False):\n",
    "    with sql_engine.connect() as sql_conn:\n",
    "        if force:\n",
    "            sql_text = text(\"\"\"DROP TABLE IF EXISTS voltages;\n",
    "                            \"\"\")\n",
    "            sql_conn.execute(sql_text)\n",
    "        # define schema\n",
    "        sql_text = text(\"\"\"\n",
    "            CREATE TABLE IF NOT EXISTS voltages (\n",
    "                Timestamp TEXT,\n",
    "                Vmain FLOAT,\n",
    "                Vmain_raw FLOAT,\n",
    "                Vaux FLOAT,\n",
    "                Vaux_raw FLOAT,\n",
    "                PRIMARY KEY (Timestamp)\n",
    "                )\n",
    "        \"\"\")\n",
    "        sql_conn.execute(sql_text)\n",
    "        sql_conn.commit()"
   ]
  },
  {
   "cell_type": "code",
   "execution_count": null,
   "id": "45733c1d",
   "metadata": {},
   "outputs": [],
   "source": [
    "create_voltage_table()"
   ]
  },
  {
   "cell_type": "code",
   "execution_count": 193,
   "id": "279197f3",
   "metadata": {},
   "outputs": [],
   "source": [
    "def add_voltage_log(Vmain, Vmain_raw, Vaux, Vaux_raw):\n",
    "    with sql_engine.connect() as sql_conn:\n",
    "        sql_text = text(\"\"\"INSERT INTO voltages\n",
    "                           VALUES (DateTime(\"now\", \"localtime\"),\n",
    "                                   :v_main,\n",
    "                                   :v_main_raw,\n",
    "                                   :v_aux,\n",
    "                                   :v_aux_raw\n",
    "                           );\n",
    "                        \"\"\")\n",
    "        sql_conn.execute(sql_text, {\"v_main\": Vmain,\n",
    "                                    \"v_main_raw\": Vmain_raw,\n",
    "                                    \"v_aux\": Vaux,\n",
    "                                    \"v_aux_raw\": Vaux_raw})\n",
    "        sql_conn.commit()"
   ]
  },
  {
   "cell_type": "code",
   "execution_count": 194,
   "id": "7d401dac",
   "metadata": {},
   "outputs": [],
   "source": [
    "add_voltage_log(12.4, 12.8, 12.5, 12)"
   ]
  },
  {
   "cell_type": "code",
   "execution_count": 195,
   "id": "b86780c3",
   "metadata": {},
   "outputs": [],
   "source": [
    "add_voltage_log(12.5, 12.75, 12.4, 11.9)"
   ]
  },
  {
   "cell_type": "markdown",
   "id": "9f3b7766",
   "metadata": {},
   "source": [
    "---"
   ]
  },
  {
   "cell_type": "code",
   "execution_count": 282,
   "id": "b286e73b",
   "metadata": {},
   "outputs": [],
   "source": [
    "def get_voltages(voltage_type=\"Vmain\", trailing_seconds=None):\n",
    "    with sql_engine.connect() as sql_conn:\n",
    "        sql_text = text(f\"\"\"SELECT Timestamp, {voltage_type}\n",
    "                            FROM voltages\n",
    "                         \"\"\")\n",
    "        result_df = pd.read_sql(sql_text, con=sql_conn, index_col = \"Timestamp\", parse_dates=[\"Timestamp\"])\n",
    "    if trailing_seconds is not None:\n",
    "        return result_df[result_df.index > dt.datetime.now() - dt.timedelta(seconds=trailing_seconds)]\n",
    "    else:\n",
    "        return result_df"
   ]
  },
  {
   "cell_type": "code",
   "execution_count": 343,
   "id": "5c141105",
   "metadata": {},
   "outputs": [],
   "source": [
    "def get_voltages(voltage_type=None, trailing_seconds=None):\n",
    "    if voltage_type is None:\n",
    "        cols = \"*\"\n",
    "    else:\n",
    "        cols = \"Timestamp, %s\" % voltage_type\n",
    "\n",
    "    if trailing_seconds is not None:\n",
    "        timestamp_now = dt.datetime.now()\n",
    "        timestamp_trail = timestamp_now - dt.timedelta(seconds=trailing_seconds)\n",
    "        timestamp_trail_str = timestamp_trail.strftime(\"%Y-%m-%d %H:%M:%S\")\n",
    "        time_filter = \"WHERE Timestamp > %s\" % timestamp_trail_str\n",
    "    else:\n",
    "        time_filter = \"\"\n",
    "\n",
    "    with sql_engine.connect() as sql_conn:\n",
    "        # sql_text = text(f\"\"\"SELECT Timestamp, {voltage_type}\n",
    "        sql_text = text(f\"\"\"SELECT {cols}\n",
    "                            FROM voltages\n",
    "                            {time_filter}\n",
    "                         \"\"\")\n",
    "        result_df = pd.read_sql(sql_text, con=sql_conn, index_col = \"Timestamp\", parse_dates=[\"Timestamp\"])\n",
    "    return result_df"
   ]
  },
  {
   "cell_type": "code",
   "execution_count": 344,
   "id": "e9567a43",
   "metadata": {},
   "outputs": [
    {
     "data": {
      "text/html": [
       "<div>\n",
       "<style scoped>\n",
       "    .dataframe tbody tr th:only-of-type {\n",
       "        vertical-align: middle;\n",
       "    }\n",
       "\n",
       "    .dataframe tbody tr th {\n",
       "        vertical-align: top;\n",
       "    }\n",
       "\n",
       "    .dataframe thead th {\n",
       "        text-align: right;\n",
       "    }\n",
       "</style>\n",
       "<table border=\"1\" class=\"dataframe\">\n",
       "  <thead>\n",
       "    <tr style=\"text-align: right;\">\n",
       "      <th></th>\n",
       "      <th>Vmain</th>\n",
       "    </tr>\n",
       "    <tr>\n",
       "      <th>Timestamp</th>\n",
       "      <th></th>\n",
       "    </tr>\n",
       "  </thead>\n",
       "  <tbody>\n",
       "    <tr>\n",
       "      <th>2025-10-12 15:08:14</th>\n",
       "      <td>12.4</td>\n",
       "    </tr>\n",
       "    <tr>\n",
       "      <th>2025-10-12 15:08:21</th>\n",
       "      <td>12.4</td>\n",
       "    </tr>\n",
       "    <tr>\n",
       "      <th>2025-10-12 15:08:22</th>\n",
       "      <td>12.5</td>\n",
       "    </tr>\n",
       "  </tbody>\n",
       "</table>\n",
       "</div>"
      ],
      "text/plain": [
       "                     Vmain\n",
       "Timestamp                 \n",
       "2025-10-12 15:08:14   12.4\n",
       "2025-10-12 15:08:21   12.4\n",
       "2025-10-12 15:08:22   12.5"
      ]
     },
     "execution_count": 344,
     "metadata": {},
     "output_type": "execute_result"
    }
   ],
   "source": [
    "df = get_voltages(\"Vmain\"); df"
   ]
  },
  {
   "cell_type": "markdown",
   "id": "2859178d",
   "metadata": {},
   "source": [
    "---"
   ]
  },
  {
   "cell_type": "code",
   "execution_count": null,
   "id": "d9ea0fa7",
   "metadata": {},
   "outputs": [],
   "source": [
    "# https://pandas.pydata.org/pandas-docs/stable/reference/api/pandas.DataFrame.to_sql.html\n",
    "pandas.DataFrame.to_sql(sys_log_db, )"
   ]
  }
 ],
 "metadata": {
  "kernelspec": {
   "display_name": "base",
   "language": "python",
   "name": "python3"
  },
  "language_info": {
   "codemirror_mode": {
    "name": "ipython",
    "version": 3
   },
   "file_extension": ".py",
   "mimetype": "text/x-python",
   "name": "python",
   "nbconvert_exporter": "python",
   "pygments_lexer": "ipython3",
   "version": "3.12.2"
  }
 },
 "nbformat": 4,
 "nbformat_minor": 5
}
