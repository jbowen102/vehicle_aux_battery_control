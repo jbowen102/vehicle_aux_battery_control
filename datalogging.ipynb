{
 "cells": [
  {
   "cell_type": "raw",
   "id": "a6fe07e1",
   "metadata": {
    "vscode": {
     "languageId": "raw"
    }
   },
   "source": [
    "jupyter nbextension enable --py widgetsnbextension\n",
    "# https://stackoverflow.com/a/57343401"
   ]
  },
  {
   "cell_type": "code",
   "execution_count": 29,
   "id": "434417b2",
   "metadata": {},
   "outputs": [],
   "source": [
    "%load_ext sql"
   ]
  },
  {
   "cell_type": "code",
   "execution_count": 30,
   "id": "377aa08e",
   "metadata": {},
   "outputs": [],
   "source": [
    "%config SqlMagic.displaylimit = 15\n",
    "# %config SqlMagic.displaylimit = None"
   ]
  },
  {
   "cell_type": "code",
   "execution_count": null,
   "id": "55a35865",
   "metadata": {},
   "outputs": [],
   "source": [
    "import datetime as dt\n",
    "import sqlite3\n",
    "import pandas as pd\n",
    "from sqlalchemy import create_engine, text"
   ]
  },
  {
   "cell_type": "code",
   "execution_count": 594,
   "id": "d68c95d6",
   "metadata": {},
   "outputs": [],
   "source": [
    "sys_log_db = \"system_data_log.db\"\n",
    "\n",
    "sql_engine = create_engine(\"sqlite:///%s\" % sys_log_db, echo=False)"
   ]
  },
  {
   "cell_type": "code",
   "execution_count": 189,
   "id": "33adf637",
   "metadata": {},
   "outputs": [],
   "source": [
    "def create_voltage_table(force=False):\n",
    "    with sql_engine.connect() as sql_conn:\n",
    "        if force:\n",
    "            sql_text = text(\"\"\"DROP TABLE IF EXISTS voltages;\n",
    "                            \"\"\")\n",
    "            sql_conn.execute(sql_text)\n",
    "        # define schema\n",
    "        sql_text = text(\"\"\"\n",
    "            CREATE TABLE IF NOT EXISTS voltages (\n",
    "                Timestamp TEXT,\n",
    "                Vmain FLOAT,\n",
    "                Vmain_raw FLOAT,\n",
    "                Vaux FLOAT,\n",
    "                Vaux_raw FLOAT,\n",
    "                PRIMARY KEY (Timestamp)\n",
    "                )\n",
    "        \"\"\")\n",
    "        sql_conn.execute(sql_text)\n",
    "        sql_conn.commit()"
   ]
  },
  {
   "cell_type": "code",
   "execution_count": null,
   "id": "45733c1d",
   "metadata": {},
   "outputs": [],
   "source": [
    "create_voltage_table()"
   ]
  },
  {
   "cell_type": "code",
   "execution_count": 193,
   "id": "279197f3",
   "metadata": {},
   "outputs": [],
   "source": [
    "def add_voltage_log(Vmain, Vmain_raw, Vaux, Vaux_raw):\n",
    "    with sql_engine.connect() as sql_conn:\n",
    "        sql_text = text(\"\"\"INSERT INTO voltages\n",
    "                           VALUES (DateTime(\"now\", \"localtime\"),\n",
    "                                   :v_main,\n",
    "                                   :v_main_raw,\n",
    "                                   :v_aux,\n",
    "                                   :v_aux_raw\n",
    "                           );\n",
    "                        \"\"\")\n",
    "        sql_conn.execute(sql_text, {\"v_main\": Vmain,\n",
    "                                    \"v_main_raw\": Vmain_raw,\n",
    "                                    \"v_aux\": Vaux,\n",
    "                                    \"v_aux_raw\": Vaux_raw})\n",
    "        sql_conn.commit()"
   ]
  },
  {
   "cell_type": "code",
   "execution_count": 194,
   "id": "7d401dac",
   "metadata": {},
   "outputs": [],
   "source": [
    "add_voltage_log(12.4, 12.8, 12.5, 12)"
   ]
  },
  {
   "cell_type": "code",
   "execution_count": 282,
   "id": "b286e73b",
   "metadata": {},
   "outputs": [],
   "source": [
    "def get_voltages(voltage_type=\"Vmain\", trailing_seconds=None):\n",
    "    with sql_engine.connect() as sql_conn:\n",
    "        sql_text = text(f\"\"\"SELECT Timestamp, {voltage_type}\n",
    "                            FROM voltages\n",
    "                         \"\"\")\n",
    "        result_df = pd.read_sql(sql_text, con=sql_conn, index_col = \"Timestamp\", parse_dates=[\"Timestamp\"])\n",
    "    if trailing_seconds is not None:\n",
    "        return result_df[result_df.index > dt.datetime.now() - dt.timedelta(seconds=trailing_seconds)]\n",
    "    else:\n",
    "        return result_df"
   ]
  },
  {
   "cell_type": "code",
   "execution_count": 595,
   "id": "5c141105",
   "metadata": {},
   "outputs": [],
   "source": [
    "def get_voltages(voltage_type=None, trailing_seconds=None):\n",
    "    if voltage_type is None:\n",
    "        cols = \"*\"\n",
    "    else:\n",
    "        cols = \"Timestamp, %s\" % voltage_type\n",
    "\n",
    "    if trailing_seconds is not None:\n",
    "        timestamp_now = dt.datetime.now()\n",
    "        timestamp_trail = timestamp_now - dt.timedelta(seconds=trailing_seconds)\n",
    "        timestamp_trail_str = timestamp_trail.strftime(\"%Y-%m-%d %H:%M:%S\")\n",
    "        time_filter = \"WHERE Timestamp > %s\" % timestamp_trail_str\n",
    "    else:\n",
    "        time_filter = \"\"\n",
    "\n",
    "    with sql_engine.connect() as sql_conn:\n",
    "        # sql_text = text(f\"\"\"SELECT Timestamp, {voltage_type}\n",
    "        sql_text = text(f\"\"\"SELECT {cols}\n",
    "                            FROM voltages\n",
    "                            {time_filter}\n",
    "                         \"\"\")\n",
    "        result_df = pd.read_sql(sql_text, con=sql_conn, index_col = \"Timestamp\", parse_dates=[\"Timestamp\"])\n",
    "    return result_df"
   ]
  },
  {
   "cell_type": "code",
   "execution_count": 344,
   "id": "e9567a43",
   "metadata": {},
   "outputs": [
    {
     "data": {
      "text/html": [
       "<div>\n",
       "<style scoped>\n",
       "    .dataframe tbody tr th:only-of-type {\n",
       "        vertical-align: middle;\n",
       "    }\n",
       "\n",
       "    .dataframe tbody tr th {\n",
       "        vertical-align: top;\n",
       "    }\n",
       "\n",
       "    .dataframe thead th {\n",
       "        text-align: right;\n",
       "    }\n",
       "</style>\n",
       "<table border=\"1\" class=\"dataframe\">\n",
       "  <thead>\n",
       "    <tr style=\"text-align: right;\">\n",
       "      <th></th>\n",
       "      <th>Vmain</th>\n",
       "    </tr>\n",
       "    <tr>\n",
       "      <th>Timestamp</th>\n",
       "      <th></th>\n",
       "    </tr>\n",
       "  </thead>\n",
       "  <tbody>\n",
       "    <tr>\n",
       "      <th>2025-10-12 15:08:14</th>\n",
       "      <td>12.4</td>\n",
       "    </tr>\n",
       "    <tr>\n",
       "      <th>2025-10-12 15:08:21</th>\n",
       "      <td>12.4</td>\n",
       "    </tr>\n",
       "    <tr>\n",
       "      <th>2025-10-12 15:08:22</th>\n",
       "      <td>12.5</td>\n",
       "    </tr>\n",
       "  </tbody>\n",
       "</table>\n",
       "</div>"
      ],
      "text/plain": [
       "                     Vmain\n",
       "Timestamp                 \n",
       "2025-10-12 15:08:14   12.4\n",
       "2025-10-12 15:08:21   12.4\n",
       "2025-10-12 15:08:22   12.5"
      ]
     },
     "execution_count": 344,
     "metadata": {},
     "output_type": "execute_result"
    }
   ],
   "source": [
    "df = get_voltages(\"Vmain\"); df"
   ]
  },
  {
   "cell_type": "markdown",
   "id": "5b3bd205",
   "metadata": {},
   "source": [
    "---"
   ]
  },
  {
   "cell_type": "code",
   "execution_count": null,
   "id": "d9ea0fa7",
   "metadata": {},
   "outputs": [],
   "source": [
    "# https://pandas.pydata.org/pandas-docs/stable/reference/api/pandas.DataFrame.to_sql.html\n",
    "pandas.DataFrame.to_sql(sys_log_db, )"
   ]
  },
  {
   "cell_type": "code",
   "execution_count": 487,
   "id": "0b00defe",
   "metadata": {},
   "outputs": [
    {
     "data": {
      "text/html": [
       "<div>\n",
       "<style scoped>\n",
       "    .dataframe tbody tr th:only-of-type {\n",
       "        vertical-align: middle;\n",
       "    }\n",
       "\n",
       "    .dataframe tbody tr th {\n",
       "        vertical-align: top;\n",
       "    }\n",
       "\n",
       "    .dataframe thead th {\n",
       "        text-align: right;\n",
       "    }\n",
       "</style>\n",
       "<table border=\"1\" class=\"dataframe\">\n",
       "  <thead>\n",
       "    <tr style=\"text-align: right;\">\n",
       "      <th></th>\n",
       "      <th>charge_enable</th>\n",
       "      <th>charge_dir</th>\n",
       "      <th>charge_current</th>\n",
       "      <th>shunt_V_in</th>\n",
       "      <th>shunt_V_out</th>\n",
       "    </tr>\n",
       "    <tr>\n",
       "      <th>Timestamp</th>\n",
       "      <th></th>\n",
       "      <th></th>\n",
       "      <th></th>\n",
       "      <th></th>\n",
       "      <th></th>\n",
       "    </tr>\n",
       "  </thead>\n",
       "  <tbody>\n",
       "    <tr>\n",
       "      <th>2025-10-13 21:16:05</th>\n",
       "      <td>1</td>\n",
       "      <td>1</td>\n",
       "      <td>4.3</td>\n",
       "      <td>0.1</td>\n",
       "      <td>0.03</td>\n",
       "    </tr>\n",
       "    <tr>\n",
       "      <th>2025-10-13 21:16:45</th>\n",
       "      <td>1</td>\n",
       "      <td>1</td>\n",
       "      <td>4.3</td>\n",
       "      <td>0.1</td>\n",
       "      <td>0.03</td>\n",
       "    </tr>\n",
       "    <tr>\n",
       "      <th>2025-10-13 21:17:03</th>\n",
       "      <td>1</td>\n",
       "      <td>1</td>\n",
       "      <td>4.3</td>\n",
       "      <td>0.1</td>\n",
       "      <td>0.03</td>\n",
       "    </tr>\n",
       "    <tr>\n",
       "      <th>2025-10-13 21:17:50</th>\n",
       "      <td>1</td>\n",
       "      <td>1</td>\n",
       "      <td>4.3</td>\n",
       "      <td>0.1</td>\n",
       "      <td>0.03</td>\n",
       "    </tr>\n",
       "    <tr>\n",
       "      <th>2025-10-13 21:27:45</th>\n",
       "      <td>1</td>\n",
       "      <td>1</td>\n",
       "      <td>4.3</td>\n",
       "      <td>0.1</td>\n",
       "      <td>0.03</td>\n",
       "    </tr>\n",
       "    <tr>\n",
       "      <th>2025-10-13 21:28:15</th>\n",
       "      <td>1</td>\n",
       "      <td>1</td>\n",
       "      <td>4.3</td>\n",
       "      <td>0.1</td>\n",
       "      <td>0.03</td>\n",
       "    </tr>\n",
       "    <tr>\n",
       "      <th>2025-10-13 21:30:07</th>\n",
       "      <td>1</td>\n",
       "      <td>1</td>\n",
       "      <td>4.3</td>\n",
       "      <td>0.1</td>\n",
       "      <td>0.03</td>\n",
       "    </tr>\n",
       "  </tbody>\n",
       "</table>\n",
       "</div>"
      ],
      "text/plain": [
       "                     charge_enable  charge_dir  charge_current  shunt_V_in  \\\n",
       "Timestamp                                                                    \n",
       "2025-10-13 21:16:05              1           1             4.3         0.1   \n",
       "2025-10-13 21:16:45              1           1             4.3         0.1   \n",
       "2025-10-13 21:17:03              1           1             4.3         0.1   \n",
       "2025-10-13 21:17:50              1           1             4.3         0.1   \n",
       "2025-10-13 21:27:45              1           1             4.3         0.1   \n",
       "2025-10-13 21:28:15              1           1             4.3         0.1   \n",
       "2025-10-13 21:30:07              1           1             4.3         0.1   \n",
       "\n",
       "                     shunt_V_out  \n",
       "Timestamp                         \n",
       "2025-10-13 21:16:05         0.03  \n",
       "2025-10-13 21:16:45         0.03  \n",
       "2025-10-13 21:17:03         0.03  \n",
       "2025-10-13 21:17:50         0.03  \n",
       "2025-10-13 21:27:45         0.03  \n",
       "2025-10-13 21:28:15         0.03  \n",
       "2025-10-13 21:30:07         0.03  "
      ]
     },
     "execution_count": 487,
     "metadata": {},
     "output_type": "execute_result"
    }
   ],
   "source": [
    "table_df = dl.get_charging(dt.datetime.now()); table_df"
   ]
  },
  {
   "cell_type": "code",
   "execution_count": 493,
   "id": "214f08d6",
   "metadata": {},
   "outputs": [],
   "source": [
    "time_now = dt.datetime.now()"
   ]
  },
  {
   "cell_type": "code",
   "execution_count": 497,
   "id": "03f116f5",
   "metadata": {},
   "outputs": [
    {
     "data": {
      "text/plain": [
       "True"
      ]
     },
     "execution_count": 497,
     "metadata": {},
     "output_type": "execute_result"
    }
   ],
   "source": [
    "(time_now - table_df.index[-1]) > dt.timedelta(seconds=5)"
   ]
  },
  {
   "cell_type": "code",
   "execution_count": 498,
   "id": "b1350985",
   "metadata": {},
   "outputs": [
    {
     "data": {
      "text/html": [
       "<div>\n",
       "<style scoped>\n",
       "    .dataframe tbody tr th:only-of-type {\n",
       "        vertical-align: middle;\n",
       "    }\n",
       "\n",
       "    .dataframe tbody tr th {\n",
       "        vertical-align: top;\n",
       "    }\n",
       "\n",
       "    .dataframe thead th {\n",
       "        text-align: right;\n",
       "    }\n",
       "</style>\n",
       "<table border=\"1\" class=\"dataframe\">\n",
       "  <thead>\n",
       "    <tr style=\"text-align: right;\">\n",
       "      <th></th>\n",
       "      <th>charge_enable</th>\n",
       "      <th>charge_dir</th>\n",
       "      <th>charge_current</th>\n",
       "      <th>shunt_V_in</th>\n",
       "      <th>shunt_V_out</th>\n",
       "    </tr>\n",
       "    <tr>\n",
       "      <th>Timestamp</th>\n",
       "      <th></th>\n",
       "      <th></th>\n",
       "      <th></th>\n",
       "      <th></th>\n",
       "      <th></th>\n",
       "    </tr>\n",
       "  </thead>\n",
       "  <tbody>\n",
       "  </tbody>\n",
       "</table>\n",
       "</div>"
      ],
      "text/plain": [
       "Empty DataFrame\n",
       "Columns: [charge_enable, charge_dir, charge_current, shunt_V_in, shunt_V_out]\n",
       "Index: []"
      ]
     },
     "execution_count": 498,
     "metadata": {},
     "output_type": "execute_result"
    }
   ],
   "source": [
    "table_df = dl.get_charging(dt.datetime.now(), 5); table_df"
   ]
  },
  {
   "cell_type": "code",
   "execution_count": 499,
   "id": "2beff008",
   "metadata": {},
   "outputs": [
    {
     "data": {
      "text/plain": [
       "0"
      ]
     },
     "execution_count": 499,
     "metadata": {},
     "output_type": "execute_result"
    }
   ],
   "source": [
    "len(table_df.index)"
   ]
  },
  {
   "cell_type": "markdown",
   "id": "16296006",
   "metadata": {},
   "source": [
    "###\n",
    "---"
   ]
  },
  {
   "cell_type": "code",
   "execution_count": 854,
   "id": "87b166ed",
   "metadata": {},
   "outputs": [],
   "source": [
    "from importlib import reload\n",
    "import class_def\n",
    "reload(class_def)\n",
    "dl = class_def.DataLogger()"
   ]
  },
  {
   "cell_type": "code",
   "execution_count": 644,
   "id": "6307e332",
   "metadata": {},
   "outputs": [
    {
     "data": {
      "text/html": [
       "<div>\n",
       "<style scoped>\n",
       "    .dataframe tbody tr th:only-of-type {\n",
       "        vertical-align: middle;\n",
       "    }\n",
       "\n",
       "    .dataframe tbody tr th {\n",
       "        vertical-align: top;\n",
       "    }\n",
       "\n",
       "    .dataframe thead th {\n",
       "        text-align: right;\n",
       "    }\n",
       "</style>\n",
       "<table border=\"1\" class=\"dataframe\">\n",
       "  <thead>\n",
       "    <tr style=\"text-align: right;\">\n",
       "      <th></th>\n",
       "      <th>Vmain_raw</th>\n",
       "      <th>Vaux_raw</th>\n",
       "    </tr>\n",
       "    <tr>\n",
       "      <th>Timestamp</th>\n",
       "      <th></th>\n",
       "      <th></th>\n",
       "    </tr>\n",
       "  </thead>\n",
       "  <tbody>\n",
       "    <tr>\n",
       "      <th>2025-10-17 20:41:13</th>\n",
       "      <td>12.298</td>\n",
       "      <td>12.909</td>\n",
       "    </tr>\n",
       "    <tr>\n",
       "      <th>2025-10-17 20:42:52</th>\n",
       "      <td>12.298</td>\n",
       "      <td>12.909</td>\n",
       "    </tr>\n",
       "    <tr>\n",
       "      <th>NaT</th>\n",
       "      <td>12.236</td>\n",
       "      <td>12.909</td>\n",
       "    </tr>\n",
       "    <tr>\n",
       "      <th>NaT</th>\n",
       "      <td>12.236</td>\n",
       "      <td>12.909</td>\n",
       "    </tr>\n",
       "    <tr>\n",
       "      <th>2025-10-17 21:09:41</th>\n",
       "      <td>12.220</td>\n",
       "      <td>12.909</td>\n",
       "    </tr>\n",
       "    <tr>\n",
       "      <th>...</th>\n",
       "      <td>...</td>\n",
       "      <td>...</td>\n",
       "    </tr>\n",
       "    <tr>\n",
       "      <th>2025-10-18 10:41:02</th>\n",
       "      <td>12.894</td>\n",
       "      <td>12.580</td>\n",
       "    </tr>\n",
       "    <tr>\n",
       "      <th>2025-10-18 10:41:03</th>\n",
       "      <td>12.894</td>\n",
       "      <td>12.580</td>\n",
       "    </tr>\n",
       "    <tr>\n",
       "      <th>2025-10-18 10:41:04</th>\n",
       "      <td>12.894</td>\n",
       "      <td>12.580</td>\n",
       "    </tr>\n",
       "    <tr>\n",
       "      <th>2025-10-18 10:41:05</th>\n",
       "      <td>12.894</td>\n",
       "      <td>12.580</td>\n",
       "    </tr>\n",
       "    <tr>\n",
       "      <th>2025-10-18 10:41:06</th>\n",
       "      <td>12.894</td>\n",
       "      <td>12.580</td>\n",
       "    </tr>\n",
       "  </tbody>\n",
       "</table>\n",
       "<p>16498 rows × 2 columns</p>\n",
       "</div>"
      ],
      "text/plain": [
       "                     Vmain_raw  Vaux_raw\n",
       "Timestamp                               \n",
       "2025-10-17 20:41:13     12.298    12.909\n",
       "2025-10-17 20:42:52     12.298    12.909\n",
       "NaT                     12.236    12.909\n",
       "NaT                     12.236    12.909\n",
       "2025-10-17 21:09:41     12.220    12.909\n",
       "...                        ...       ...\n",
       "2025-10-18 10:41:02     12.894    12.580\n",
       "2025-10-18 10:41:03     12.894    12.580\n",
       "2025-10-18 10:41:04     12.894    12.580\n",
       "2025-10-18 10:41:05     12.894    12.580\n",
       "2025-10-18 10:41:06     12.894    12.580\n",
       "\n",
       "[16498 rows x 2 columns]"
      ]
     },
     "execution_count": 644,
     "metadata": {},
     "output_type": "execute_result"
    }
   ],
   "source": [
    "dl._execute_sql(\"SELECT * FROM voltages\", query=True)"
   ]
  },
  {
   "cell_type": "code",
   "execution_count": 677,
   "id": "5ef71bb6",
   "metadata": {},
   "outputs": [
    {
     "data": {
      "text/html": [
       "<div>\n",
       "<style scoped>\n",
       "    .dataframe tbody tr th:only-of-type {\n",
       "        vertical-align: middle;\n",
       "    }\n",
       "\n",
       "    .dataframe tbody tr th {\n",
       "        vertical-align: top;\n",
       "    }\n",
       "\n",
       "    .dataframe thead th {\n",
       "        text-align: right;\n",
       "    }\n",
       "</style>\n",
       "<table border=\"1\" class=\"dataframe\">\n",
       "  <thead>\n",
       "    <tr style=\"text-align: right;\">\n",
       "      <th></th>\n",
       "      <th>Vmain_raw</th>\n",
       "      <th>Vaux_raw</th>\n",
       "    </tr>\n",
       "    <tr>\n",
       "      <th>Timestamp</th>\n",
       "      <th></th>\n",
       "      <th></th>\n",
       "    </tr>\n",
       "  </thead>\n",
       "  <tbody>\n",
       "    <tr>\n",
       "      <th>2025-10-18 07:13:29</th>\n",
       "      <td>12.894</td>\n",
       "      <td>12.674</td>\n",
       "    </tr>\n",
       "    <tr>\n",
       "      <th>2025-10-18 07:13:30</th>\n",
       "      <td>12.894</td>\n",
       "      <td>12.674</td>\n",
       "    </tr>\n",
       "    <tr>\n",
       "      <th>2025-10-18 07:13:31</th>\n",
       "      <td>12.894</td>\n",
       "      <td>12.674</td>\n",
       "    </tr>\n",
       "    <tr>\n",
       "      <th>2025-10-18 07:13:32</th>\n",
       "      <td>12.894</td>\n",
       "      <td>12.674</td>\n",
       "    </tr>\n",
       "    <tr>\n",
       "      <th>2025-10-18 07:13:33</th>\n",
       "      <td>12.894</td>\n",
       "      <td>12.674</td>\n",
       "    </tr>\n",
       "    <tr>\n",
       "      <th>...</th>\n",
       "      <td>...</td>\n",
       "      <td>...</td>\n",
       "    </tr>\n",
       "    <tr>\n",
       "      <th>2025-10-18 17:11:33</th>\n",
       "      <td>12.909</td>\n",
       "      <td>12.659</td>\n",
       "    </tr>\n",
       "    <tr>\n",
       "      <th>2025-10-18 17:11:34</th>\n",
       "      <td>12.909</td>\n",
       "      <td>12.659</td>\n",
       "    </tr>\n",
       "    <tr>\n",
       "      <th>2025-10-18 17:11:35</th>\n",
       "      <td>12.909</td>\n",
       "      <td>12.659</td>\n",
       "    </tr>\n",
       "    <tr>\n",
       "      <th>2025-10-18 17:11:36</th>\n",
       "      <td>12.909</td>\n",
       "      <td>12.659</td>\n",
       "    </tr>\n",
       "    <tr>\n",
       "      <th>2025-10-18 17:11:37</th>\n",
       "      <td>12.909</td>\n",
       "      <td>12.659</td>\n",
       "    </tr>\n",
       "  </tbody>\n",
       "</table>\n",
       "<p>35751 rows × 2 columns</p>\n",
       "</div>"
      ],
      "text/plain": [
       "                     Vmain_raw  Vaux_raw\n",
       "Timestamp                               \n",
       "2025-10-18 07:13:29     12.894    12.674\n",
       "2025-10-18 07:13:30     12.894    12.674\n",
       "2025-10-18 07:13:31     12.894    12.674\n",
       "2025-10-18 07:13:32     12.894    12.674\n",
       "2025-10-18 07:13:33     12.894    12.674\n",
       "...                        ...       ...\n",
       "2025-10-18 17:11:33     12.909    12.659\n",
       "2025-10-18 17:11:34     12.909    12.659\n",
       "2025-10-18 17:11:35     12.909    12.659\n",
       "2025-10-18 17:11:36     12.909    12.659\n",
       "2025-10-18 17:11:37     12.909    12.659\n",
       "\n",
       "[35751 rows x 2 columns]"
      ]
     },
     "execution_count": 677,
     "metadata": {},
     "output_type": "execute_result"
    }
   ],
   "source": [
    "dl.get_voltages(dt.datetime.now(), 36000)"
   ]
  },
  {
   "cell_type": "code",
   "execution_count": 637,
   "id": "03fc9e12",
   "metadata": {},
   "outputs": [
    {
     "data": {
      "text/html": [
       "<div>\n",
       "<style scoped>\n",
       "    .dataframe tbody tr th:only-of-type {\n",
       "        vertical-align: middle;\n",
       "    }\n",
       "\n",
       "    .dataframe tbody tr th {\n",
       "        vertical-align: top;\n",
       "    }\n",
       "\n",
       "    .dataframe thead th {\n",
       "        text-align: right;\n",
       "    }\n",
       "</style>\n",
       "<table border=\"1\" class=\"dataframe\">\n",
       "  <thead>\n",
       "    <tr style=\"text-align: right;\">\n",
       "      <th></th>\n",
       "      <th>Vmain_raw</th>\n",
       "    </tr>\n",
       "    <tr>\n",
       "      <th>Timestamp</th>\n",
       "      <th></th>\n",
       "    </tr>\n",
       "  </thead>\n",
       "  <tbody>\n",
       "    <tr>\n",
       "      <th>2025-10-18 08:15:10</th>\n",
       "      <td>12.894</td>\n",
       "    </tr>\n",
       "    <tr>\n",
       "      <th>2025-10-18 08:15:11</th>\n",
       "      <td>12.894</td>\n",
       "    </tr>\n",
       "    <tr>\n",
       "      <th>2025-10-18 08:15:12</th>\n",
       "      <td>12.894</td>\n",
       "    </tr>\n",
       "    <tr>\n",
       "      <th>2025-10-18 08:15:13</th>\n",
       "      <td>12.894</td>\n",
       "    </tr>\n",
       "    <tr>\n",
       "      <th>2025-10-18 08:15:14</th>\n",
       "      <td>12.894</td>\n",
       "    </tr>\n",
       "    <tr>\n",
       "      <th>...</th>\n",
       "      <td>...</td>\n",
       "    </tr>\n",
       "    <tr>\n",
       "      <th>2025-10-18 08:31:44</th>\n",
       "      <td>12.894</td>\n",
       "    </tr>\n",
       "    <tr>\n",
       "      <th>2025-10-18 08:31:45</th>\n",
       "      <td>12.894</td>\n",
       "    </tr>\n",
       "    <tr>\n",
       "      <th>2025-10-18 08:31:46</th>\n",
       "      <td>12.894</td>\n",
       "    </tr>\n",
       "    <tr>\n",
       "      <th>2025-10-18 08:31:47</th>\n",
       "      <td>12.909</td>\n",
       "    </tr>\n",
       "    <tr>\n",
       "      <th>2025-10-18 08:31:48</th>\n",
       "      <td>12.894</td>\n",
       "    </tr>\n",
       "  </tbody>\n",
       "</table>\n",
       "<p>996 rows × 1 columns</p>\n",
       "</div>"
      ],
      "text/plain": [
       "                     Vmain_raw\n",
       "Timestamp                     \n",
       "2025-10-18 08:15:10     12.894\n",
       "2025-10-18 08:15:11     12.894\n",
       "2025-10-18 08:15:12     12.894\n",
       "2025-10-18 08:15:13     12.894\n",
       "2025-10-18 08:15:14     12.894\n",
       "...                        ...\n",
       "2025-10-18 08:31:44     12.894\n",
       "2025-10-18 08:31:45     12.894\n",
       "2025-10-18 08:31:46     12.894\n",
       "2025-10-18 08:31:47     12.909\n",
       "2025-10-18 08:31:48     12.894\n",
       "\n",
       "[996 rows x 1 columns]"
      ]
     },
     "execution_count": 637,
     "metadata": {},
     "output_type": "execute_result"
    }
   ],
   "source": [
    "dl.get_voltages(dt.datetime.now(), 1000, [\"Vmain_raw\"])"
   ]
  },
  {
   "cell_type": "code",
   "execution_count": null,
   "id": "bfc19705",
   "metadata": {},
   "outputs": [
    {
     "data": {
      "text/html": [
       "<div>\n",
       "<style scoped>\n",
       "    .dataframe tbody tr th:only-of-type {\n",
       "        vertical-align: middle;\n",
       "    }\n",
       "\n",
       "    .dataframe tbody tr th {\n",
       "        vertical-align: top;\n",
       "    }\n",
       "\n",
       "    .dataframe thead th {\n",
       "        text-align: right;\n",
       "    }\n",
       "</style>\n",
       "<table border=\"1\" class=\"dataframe\">\n",
       "  <thead>\n",
       "    <tr style=\"text-align: right;\">\n",
       "      <th></th>\n",
       "      <th>charge_enable</th>\n",
       "      <th>charge_dir</th>\n",
       "      <th>charge_current</th>\n",
       "      <th>shunt_V_in</th>\n",
       "      <th>shunt_V_out</th>\n",
       "    </tr>\n",
       "    <tr>\n",
       "      <th>Timestamp</th>\n",
       "      <th></th>\n",
       "      <th></th>\n",
       "      <th></th>\n",
       "      <th></th>\n",
       "      <th></th>\n",
       "    </tr>\n",
       "  </thead>\n",
       "  <tbody>\n",
       "    <tr>\n",
       "      <th>2025-10-17 20:42:52</th>\n",
       "      <td>0</td>\n",
       "      <td>1</td>\n",
       "      <td>8.266667</td>\n",
       "      <td>12.909</td>\n",
       "      <td>12.862</td>\n",
       "    </tr>\n",
       "    <tr>\n",
       "      <th>NaT</th>\n",
       "      <td>0</td>\n",
       "      <td>1</td>\n",
       "      <td>8.266667</td>\n",
       "      <td>12.909</td>\n",
       "      <td>12.878</td>\n",
       "    </tr>\n",
       "    <tr>\n",
       "      <th>NaT</th>\n",
       "      <td>0</td>\n",
       "      <td>1</td>\n",
       "      <td>8.266667</td>\n",
       "      <td>12.909</td>\n",
       "      <td>12.878</td>\n",
       "    </tr>\n",
       "    <tr>\n",
       "      <th>2025-10-17 21:09:41</th>\n",
       "      <td>0</td>\n",
       "      <td>1</td>\n",
       "      <td>8.533333</td>\n",
       "      <td>12.894</td>\n",
       "      <td>12.862</td>\n",
       "    </tr>\n",
       "    <tr>\n",
       "      <th>2025-10-17 21:09:42</th>\n",
       "      <td>0</td>\n",
       "      <td>1</td>\n",
       "      <td>8.266667</td>\n",
       "      <td>12.909</td>\n",
       "      <td>12.862</td>\n",
       "    </tr>\n",
       "    <tr>\n",
       "      <th>...</th>\n",
       "      <td>...</td>\n",
       "      <td>...</td>\n",
       "      <td>...</td>\n",
       "      <td>...</td>\n",
       "      <td>...</td>\n",
       "    </tr>\n",
       "    <tr>\n",
       "      <th>2025-10-18 07:49:00</th>\n",
       "      <td>1</td>\n",
       "      <td>1</td>\n",
       "      <td>12.533333</td>\n",
       "      <td>12.674</td>\n",
       "      <td>12.627</td>\n",
       "    </tr>\n",
       "    <tr>\n",
       "      <th>2025-10-18 07:49:01</th>\n",
       "      <td>1</td>\n",
       "      <td>1</td>\n",
       "      <td>12.533333</td>\n",
       "      <td>12.674</td>\n",
       "      <td>12.627</td>\n",
       "    </tr>\n",
       "    <tr>\n",
       "      <th>2025-10-18 07:49:02</th>\n",
       "      <td>1</td>\n",
       "      <td>1</td>\n",
       "      <td>8.533333</td>\n",
       "      <td>12.674</td>\n",
       "      <td>12.627</td>\n",
       "    </tr>\n",
       "    <tr>\n",
       "      <th>2025-10-18 07:49:03</th>\n",
       "      <td>1</td>\n",
       "      <td>1</td>\n",
       "      <td>8.533333</td>\n",
       "      <td>12.674</td>\n",
       "      <td>12.627</td>\n",
       "    </tr>\n",
       "    <tr>\n",
       "      <th>2025-10-18 07:49:04</th>\n",
       "      <td>1</td>\n",
       "      <td>1</td>\n",
       "      <td>12.533333</td>\n",
       "      <td>12.674</td>\n",
       "      <td>12.627</td>\n",
       "    </tr>\n",
       "  </tbody>\n",
       "</table>\n",
       "<p>6210 rows × 5 columns</p>\n",
       "</div>"
      ],
      "text/plain": [
       "                     charge_enable  charge_dir  charge_current  shunt_V_in  \\\n",
       "Timestamp                                                                    \n",
       "2025-10-17 20:42:52              0           1        8.266667      12.909   \n",
       "NaT                              0           1        8.266667      12.909   \n",
       "NaT                              0           1        8.266667      12.909   \n",
       "2025-10-17 21:09:41              0           1        8.533333      12.894   \n",
       "2025-10-17 21:09:42              0           1        8.266667      12.909   \n",
       "...                            ...         ...             ...         ...   \n",
       "2025-10-18 07:49:00              1           1       12.533333      12.674   \n",
       "2025-10-18 07:49:01              1           1       12.533333      12.674   \n",
       "2025-10-18 07:49:02              1           1        8.533333      12.674   \n",
       "2025-10-18 07:49:03              1           1        8.533333      12.674   \n",
       "2025-10-18 07:49:04              1           1       12.533333      12.674   \n",
       "\n",
       "                     shunt_V_out  \n",
       "Timestamp                         \n",
       "2025-10-17 20:42:52       12.862  \n",
       "NaT                       12.878  \n",
       "NaT                       12.878  \n",
       "2025-10-17 21:09:41       12.862  \n",
       "2025-10-17 21:09:42       12.862  \n",
       "...                          ...  \n",
       "2025-10-18 07:49:00       12.627  \n",
       "2025-10-18 07:49:01       12.627  \n",
       "2025-10-18 07:49:02       12.627  \n",
       "2025-10-18 07:49:03       12.627  \n",
       "2025-10-18 07:49:04       12.627  \n",
       "\n",
       "[6210 rows x 5 columns]"
      ]
     },
     "metadata": {},
     "output_type": "display_data"
    }
   ],
   "source": [
    "dl.get_charging(dt.datetime.now())"
   ]
  },
  {
   "cell_type": "code",
   "execution_count": 642,
   "id": "856d7a16",
   "metadata": {},
   "outputs": [
    {
     "data": {
      "text/html": [
       "<div>\n",
       "<style scoped>\n",
       "    .dataframe tbody tr th:only-of-type {\n",
       "        vertical-align: middle;\n",
       "    }\n",
       "\n",
       "    .dataframe tbody tr th {\n",
       "        vertical-align: top;\n",
       "    }\n",
       "\n",
       "    .dataframe thead th {\n",
       "        text-align: right;\n",
       "    }\n",
       "</style>\n",
       "<table border=\"1\" class=\"dataframe\">\n",
       "  <thead>\n",
       "    <tr style=\"text-align: right;\">\n",
       "      <th></th>\n",
       "      <th>enable_sw</th>\n",
       "      <th>key_ACC</th>\n",
       "      <th>ecu_W</th>\n",
       "      <th>engine_on</th>\n",
       "      <th>network_conn</th>\n",
       "      <th>HAT_analog_0</th>\n",
       "      <th>HAT_analog_1</th>\n",
       "      <th>HAT_analog_2</th>\n",
       "      <th>HAT_input_0</th>\n",
       "      <th>HAT_input_1</th>\n",
       "      <th>HAT_input_2</th>\n",
       "      <th>HAT_relay_0</th>\n",
       "      <th>HAT_relay_1</th>\n",
       "      <th>HAT_relay_2</th>\n",
       "    </tr>\n",
       "    <tr>\n",
       "      <th>Timestamp</th>\n",
       "      <th></th>\n",
       "      <th></th>\n",
       "      <th></th>\n",
       "      <th></th>\n",
       "      <th></th>\n",
       "      <th></th>\n",
       "      <th></th>\n",
       "      <th></th>\n",
       "      <th></th>\n",
       "      <th></th>\n",
       "      <th></th>\n",
       "      <th></th>\n",
       "      <th></th>\n",
       "      <th></th>\n",
       "    </tr>\n",
       "  </thead>\n",
       "  <tbody>\n",
       "  </tbody>\n",
       "</table>\n",
       "</div>"
      ],
      "text/plain": [
       "Empty DataFrame\n",
       "Columns: [enable_sw, key_ACC, ecu_W, engine_on, network_conn, HAT_analog_0, HAT_analog_1, HAT_analog_2, HAT_input_0, HAT_input_1, HAT_input_2, HAT_relay_0, HAT_relay_1, HAT_relay_2]\n",
       "Index: []"
      ]
     },
     "execution_count": 642,
     "metadata": {},
     "output_type": "execute_result"
    }
   ],
   "source": [
    "dl.get_signals(dt.datetime.now(), 10000)"
   ]
  },
  {
   "cell_type": "code",
   "execution_count": 697,
   "id": "f403cf52",
   "metadata": {},
   "outputs": [
    {
     "data": {
      "image/png": "[encoded data removed]",
      "text/plain": [
       "<Figure size 1000x500 with 1 Axes>"
      ]
     },
     "metadata": {},
     "output_type": "display_data"
    }
   ],
   "source": [
    "window_size_seconds = 60\n",
    "dl.get_voltages(dt.datetime.now(), 36000).rolling(dt.timedelta(seconds=window_size_seconds)).mean().plot(figsize=(10, 5), ylabel=\"V (%ss-avg)\" % window_size_seconds, color=(\"purple\", \"green\"));\n",
    "# dl.get_voltages(dt.datetime.now(), 3000).plot();"
   ]
  },
  {
   "cell_type": "code",
   "execution_count": 698,
   "id": "2a9cb619",
   "metadata": {},
   "outputs": [
    {
     "data": {
      "image/png": "[encoded data removed]",
      "text/plain": [
       "<Figure size 1000x500 with 1 Axes>"
      ]
     },
     "metadata": {},
     "output_type": "display_data"
    }
   ],
   "source": [
    "window_size_seconds = 200\n",
    "dl.get_charging(dt.datetime.now(), 36000)[\"charge_current\"].rolling(dt.timedelta(seconds=window_size_seconds)).mean().plot(figsize=(10, 5), ylim=(0, 13), ylabel=\"Charge Current (A, %ss-avg)\" % window_size_seconds, color=\"orange\");"
   ]
  },
  {
   "cell_type": "markdown",
   "id": "01e8b15f",
   "metadata": {},
   "source": [
    "### Energy use\n",
    "---"
   ]
  },
  {
   "cell_type": "code",
   "execution_count": 719,
   "id": "6a54f1c9",
   "metadata": {},
   "outputs": [],
   "source": [
    "charge_current = dl.get_charging(dt.datetime.now(), 10000)[\"charge_current\"].rolling(dt.timedelta(seconds=10)).mean()\n",
    "Vaux_raw = dl.get_voltages(dt.datetime.now(), 10000)[\"Vaux_raw\"].rolling(dt.timedelta(seconds=10)).mean()"
   ]
  },
  {
   "cell_type": "code",
   "execution_count": 720,
   "id": "b690c40e",
   "metadata": {},
   "outputs": [
    {
     "data": {
      "text/plain": [
       "21.61312510288073"
      ]
     },
     "execution_count": 720,
     "metadata": {},
     "output_type": "execute_result"
    }
   ],
   "source": [
    "# Amp-hours, since index is seconds\n",
    "charge_current.sum() / 3600"
   ]
  },
  {
   "cell_type": "code",
   "execution_count": 726,
   "id": "58077d86",
   "metadata": {},
   "outputs": [
    {
     "data": {
      "text/plain": [
       "Timedelta('0 days 02:23:31')"
      ]
     },
     "execution_count": 726,
     "metadata": {},
     "output_type": "execute_result"
    }
   ],
   "source": [
    "# time range in data\n",
    "(charge_current.index[-1] - charge_current.index[0])"
   ]
  },
  {
   "cell_type": "code",
   "execution_count": 736,
   "id": "8591ad68",
   "metadata": {},
   "outputs": [
    {
     "data": {
      "text/plain": [
       "2.3919444444444444"
      ]
     },
     "execution_count": 736,
     "metadata": {},
     "output_type": "execute_result"
    }
   ],
   "source": [
    "# Converted to decimal hours\n",
    "(charge_current.index[-1] - charge_current.index[0]).total_seconds()/3600"
   ]
  },
  {
   "cell_type": "code",
   "execution_count": 728,
   "id": "2bd84ddc",
   "metadata": {},
   "outputs": [
    {
     "data": {
      "text/plain": [
       "9.070558448399467"
      ]
     },
     "execution_count": 728,
     "metadata": {},
     "output_type": "execute_result"
    }
   ],
   "source": [
    "# Avg current (Ah use per hour)\n",
    "charge_current.mean()"
   ]
  },
  {
   "cell_type": "code",
   "execution_count": null,
   "id": "b80bf2c4",
   "metadata": {},
   "outputs": [
    {
     "data": {
      "text/plain": [
       "Timestamp\n",
       "2025-10-18 14:41:58    108.023467\n",
       "2025-10-18 14:41:59    108.023467\n",
       "2025-10-18 14:42:00    108.023467\n",
       "2025-10-18 14:42:01    108.023467\n",
       "2025-10-18 14:42:02    108.023467\n",
       "                          ...    \n",
       "2025-10-18 17:11:33    122.168673\n",
       "2025-10-18 17:11:34    122.168673\n",
       "2025-10-18 17:11:35    122.168673\n",
       "2025-10-18 17:11:36    122.168673\n",
       "2025-10-18 17:11:37    121.897262\n",
       "Length: 8946, dtype: float64"
      ]
     },
     "metadata": {},
     "output_type": "display_data"
    }
   ],
   "source": [
    "# Watts\n",
    "charge_current * Vaux_raw"
   ]
  },
  {
   "cell_type": "code",
   "execution_count": 735,
   "id": "e0fc852b",
   "metadata": {},
   "outputs": [
    {
     "data": {
      "text/plain": [
       "273.508961070417"
      ]
     },
     "execution_count": 735,
     "metadata": {},
     "output_type": "execute_result"
    }
   ],
   "source": [
    "# kWh\n",
    "(charge_current * Vaux_raw).sum() / 3600"
   ]
  },
  {
   "cell_type": "markdown",
   "id": "c79fb54b",
   "metadata": {},
   "source": [
    "### 2025-10-24 key off, DC charger running and discharging Li batt all day, then recharging.\n",
    "---"
   ]
  },
  {
   "cell_type": "code",
   "execution_count": 789,
   "id": "08ef2ac2",
   "metadata": {},
   "outputs": [
    {
     "data": {
      "text/plain": [
       "datetime.datetime(2025, 10, 24, 16, 0)"
      ]
     },
     "execution_count": 789,
     "metadata": {},
     "output_type": "execute_result"
    }
   ],
   "source": [
    "dt.datetime.strptime(\"20251024T1600\", class_def.DATETIME_FORMAT)"
   ]
  },
  {
   "cell_type": "code",
   "execution_count": null,
   "id": "6647522d",
   "metadata": {},
   "outputs": [
    {
     "data": {
      "image/png": "[encoded data removed]",
      "text/plain": [
       "<Figure size 1000x500 with 1 Axes>"
      ]
     },
     "metadata": {},
     "output_type": "display_data"
    }
   ],
   "source": [
    "# Key-off, system sitting idle all day.\n",
    "window_size_seconds = 60\n",
    "voltages = dl.get_voltages(dt.datetime.now(), 44500)\n",
    "end_time = dt.datetime.strptime(\"20251024T1600\", class_def.DATETIME_FORMAT)\n",
    "voltages[voltages.index < end_time].rolling(dt.timedelta(seconds=window_size_seconds)).mean().plot(figsize=(10, 5), ylabel=\"V (%ss-avg)\" % window_size_seconds, color=(\"purple\", \"green\"), ylim=[11.9, 13]);"
   ]
  },
  {
   "cell_type": "code",
   "execution_count": 829,
   "id": "93d30603",
   "metadata": {},
   "outputs": [
    {
     "data": {
      "image/png": "[encoded data removed]",
      "text/plain": [
       "<Figure size 1000x500 with 1 Axes>"
      ]
     },
     "metadata": {},
     "output_type": "display_data"
    }
   ],
   "source": [
    "# Key-off, system sitting idle all day.\n",
    "window_size_seconds = 60\n",
    "voltages = dl.get_voltages(dt.datetime.now(), 44500)\n",
    "voltages.rolling(dt.timedelta(seconds=window_size_seconds)).mean().plot(figsize=(10, 5), ylabel=\"V (%ss-avg)\" % window_size_seconds, color=(\"purple\", \"green\"));"
   ]
  },
  {
   "cell_type": "code",
   "execution_count": 855,
   "id": "b99335a3",
   "metadata": {},
   "outputs": [
    {
     "data": {
      "image/png": "[encoded data removed]",
      "text/plain": [
       "<Figure size 1000x800 with 1 Axes>"
      ]
     },
     "metadata": {},
     "output_type": "display_data"
    }
   ],
   "source": [
    "# Can see low charging current while system at idle, then much higher current after engine startup\n",
    "# when alternator used to recharge Li batt from relatively low SoC.\n",
    "# High current explains why I heard DC charger's fan turned on around 17:35 as well.\n",
    "# Abrupt drop in current at end is turning engine off again and having charge direction reverse.\n",
    "window_size_seconds = 200\n",
    "charging_current = dl.get_charging(dt.datetime.now(), 45000, signed_charge_dir=True)[\"charge_current\"]\n",
    "charging_current.rolling(dt.timedelta(seconds=window_size_seconds)).mean().plot(figsize=(10, 8), ylim=(-21, 10.5), ylabel=\"Charge Current (A, %ss-avg)\" % window_size_seconds, color=\"orange\");"
   ]
  }
 ],
 "metadata": {
  "kernelspec": {
   "display_name": "base",
   "language": "python",
   "name": "python3"
  },
  "language_info": {
   "codemirror_mode": {
    "name": "ipython",
    "version": 3
   },
   "file_extension": ".py",
   "mimetype": "text/x-python",
   "name": "python",
   "nbconvert_exporter": "python",
   "pygments_lexer": "ipython3",
   "version": "3.12.2"
  }
 },
 "nbformat": 4,
 "nbformat_minor": 5
}
